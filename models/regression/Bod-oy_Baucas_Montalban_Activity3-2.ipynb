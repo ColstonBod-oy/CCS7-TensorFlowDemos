{
  "nbformat": 4,
  "nbformat_minor": 0,
  "metadata": {
    "colab": {
      "provenance": [],
      "authorship_tag": "ABX9TyPFyEHhYNwLmP2RAWfKNe0g",
      "include_colab_link": true
    },
    "kernelspec": {
      "name": "python3",
      "display_name": "Python 3"
    },
    "language_info": {
      "name": "python"
    }
  },
  "cells": [
    {
      "cell_type": "markdown",
      "metadata": {
        "id": "view-in-github",
        "colab_type": "text"
      },
      "source": [
        "<a href=\"https://colab.research.google.com/github/ColstonBod-oy/CCS7-TensorFlowDemos/blob/main/models/regression/Bod-oy_Baucas_Montalban_Activity3-2.ipynb\" target=\"_parent\"><img src=\"https://colab.research.google.com/assets/colab-badge.svg\" alt=\"Open In Colab\"/></a>"
      ]
    },
    {
      "cell_type": "code",
      "execution_count": 16,
      "metadata": {
        "id": "z9yIAljnDeSz",
        "outputId": "3fca7b2f-f616-423b-f6b4-a8c37c1cc41f",
        "colab": {
          "base_uri": "https://localhost:8080/"
        }
      },
      "outputs": [
        {
          "output_type": "stream",
          "name": "stdout",
          "text": [
            "Enter x: 1\n",
            "Enter y: 3\n",
            "Enter x: 2\n",
            "Enter y: 0\n",
            "Enter x: 3\n",
            "Enter y: 5\n",
            "Enter x: 5\n",
            "Enter y: 7\n",
            "Enter x: 6\n",
            "Enter y: 4\n",
            "Enter x: 7\n",
            "Enter y: 5\n",
            "Enter x: 8\n",
            "Enter y: 10\n",
            "Enter x: 10\n",
            "Enter y: 8\n",
            "Y =  1.2444444444444445 + 0.762962962962963 X\n"
          ]
        }
      ],
      "source": [
        "sumX = 0\n",
        "sumY = 0\n",
        "sumXY = 0\n",
        "sumX2 = 0\n",
        "\n",
        "for i in range(8):\n",
        "  x = int(input(\"Enter x: \"))\n",
        "  sumX = sumX + x\n",
        "\n",
        "  y = int(input(\"Enter y: \"))\n",
        "  sumY = sumY + y\n",
        "\n",
        "  sumXY = sumXY + x * y\n",
        "  sumX2 = sumX2 + pow(x, 2)\n",
        "\n",
        "a = (sumY * sumX2 - sumX * sumXY) / (8 * sumX2 - pow(sumX, 2))\n",
        "b = (8 * sumXY - sumX * sumY) / (8 * sumX2 - pow(sumX, 2))\n",
        "\n",
        "print(\"Y = \", a, \"+\", b, \"X\")\n"
      ]
    }
  ]
}